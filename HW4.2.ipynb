{
 "cells": [
  {
   "cell_type": "code",
   "execution_count": 2,
   "metadata": {},
   "outputs": [],
   "source": [
    "%matplotlib inline"
   ]
  },
  {
   "cell_type": "code",
   "execution_count": 1,
   "metadata": {},
   "outputs": [],
   "source": [
    "import torch\n",
    "import torch.optim as optim\n",
    "import tqdm\n",
    "import torch.nn as nn\n",
    "import torch.nn.functional as F\n",
    "\n",
    "from sklearn.metrics import accuracy_score\n",
    "\n",
    "import numpy as np\n",
    "import PIL\n",
    "import random\n",
    "from IPython.core.display import Image, display\n",
    "\n",
    "import matplotlib.pyplot as plt"
   ]
  },
  {
   "cell_type": "code",
   "execution_count": 14,
   "metadata": {},
   "outputs": [],
   "source": [
    "DEVICE_ID = 3\n",
    "DEVICE = torch.device('cuda:%d' % DEVICE_ID)\n",
    "torch.cuda.set_device(DEVICE_ID)"
   ]
  },
  {
   "cell_type": "code",
   "execution_count": 3,
   "metadata": {},
   "outputs": [],
   "source": [
    "### Для запуска без GPU раскомментировать и закоментировать код выше\n",
    "#DEVICE = torch.device('cpu')"
   ]
  },
  {
   "cell_type": "code",
   "execution_count": 4,
   "metadata": {},
   "outputs": [],
   "source": [
    "np.random.seed(100500)\n",
    "\n",
    "def data2image(data):\n",
    "    res = np.transpose(np.reshape(data ,(3, 32,32)), (1,2,0))\n",
    "    return PIL.Image.fromarray(np.uint8(res))\n",
    "\n",
    "def imshow(img):\n",
    "    if isinstance(img, torch.Tensor): img = img.numpy().astype('uint8')\n",
    "    plt.imshow(np.transpose(img, (1, 2, 0)))\n",
    "    \n",
    "def prediction2classes(output_var):\n",
    "    _, predicted = torch.max(output_var.data, 1)\n",
    "    predicted.squeeze_()\n",
    "    classes = predicted.tolist()\n",
    "    return classes\n",
    "\n",
    "def make_solution_pytorch(net, input_tensor, a_batch_size):\n",
    "    res = []\n",
    "    net = net.eval()\n",
    "    cur_pos = 0\n",
    "    while cur_pos <= len(input_tensor):\n",
    "        outputs = net(input_tensor[cur_pos:cur_pos+a_batch_size])\n",
    "        res += prediction2classes(outputs)\n",
    "        cur_pos += a_batch_size\n",
    "    return res"
   ]
  },
  {
   "cell_type": "code",
   "execution_count": 5,
   "metadata": {},
   "outputs": [],
   "source": [
    "from torch.utils.data import Dataset, DataLoader\n",
    "from torchvision import transforms, utils\n",
    "from PIL import Image\n",
    "\n",
    "class CifarDataset(Dataset):\n",
    "    def __init__(self, input_path, is_train=True, transform=None):\n",
    "                        \n",
    "        data = np.load(input_path)\n",
    "        if is_train: \n",
    "            self.Y, self.X = np.hsplit(data, [1]) \n",
    "            self.Y = [item[0] for item in self.Y]\n",
    "        else: \n",
    "            self.X = data\n",
    "            self.Y = None\n",
    "            \n",
    "        self.X = self.X.reshape((self.X.shape[0], 3, 32, 32))\n",
    "        self.X = self.X.transpose((0, 2, 3, 1)) #приводим к виду (N, H, W, C)\n",
    "        self.X = [Image.fromarray(img) for img in self.X]\n",
    "                \n",
    "        self.transform = transform\n",
    "\n",
    "    def __len__(self):\n",
    "        return len(self.X)\n",
    "\n",
    "    def __getitem__(self, idx):\n",
    "        \n",
    "        sample = self.X[idx]\n",
    "\n",
    "        if self.transform: sample = self.transform(sample)\n",
    "\n",
    "        if self.Y is None: return sample\n",
    "        else: return (sample, self.Y[idx])"
   ]
  },
  {
   "cell_type": "code",
   "execution_count": 6,
   "metadata": {},
   "outputs": [],
   "source": [
    "train_path = './homework_4.train.npy'\n",
    "test_path  = './homework_4_no_classes.test.npy'"
   ]
  },
  {
   "cell_type": "code",
   "execution_count": 7,
   "metadata": {},
   "outputs": [],
   "source": [
    "np_mean = np.mean([item[0].numpy() for item in CifarDataset(train_path, transform=transforms.ToTensor())], axis=(0,2,3))\n",
    "np_std = np.std([item[0].numpy() for item in CifarDataset(train_path, transform=transforms.ToTensor())], axis=(0,2,3))"
   ]
  },
  {
   "cell_type": "code",
   "execution_count": 8,
   "metadata": {},
   "outputs": [
    {
     "data": {
      "text/plain": [
       "(3,)"
      ]
     },
     "execution_count": 8,
     "metadata": {},
     "output_type": "execute_result"
    }
   ],
   "source": [
    "np_mean.shape"
   ]
  },
  {
   "cell_type": "code",
   "execution_count": 9,
   "metadata": {},
   "outputs": [],
   "source": [
    "cifar_transform_norm = transforms.Compose([\n",
    "    transforms.Pad(4),\n",
    "    transforms.RandomCrop(32),\n",
    "    transforms.RandomHorizontalFlip(),\n",
    "    transforms.ToTensor(),\n",
    "    transforms.Normalize(torch.FloatTensor(np_mean), torch.FloatTensor(np_std))\n",
    "]\n",
    ")\n",
    "\n",
    "cifar_test_transform_norm = transforms.Compose([    \n",
    "    transforms.ToTensor(),\n",
    "    transforms.Normalize(torch.FloatTensor(np_mean), torch.FloatTensor(np_std))\n",
    "]\n",
    ")"
   ]
  },
  {
   "cell_type": "code",
   "execution_count": 10,
   "metadata": {},
   "outputs": [],
   "source": [
    "dataset_train_norm = CifarDataset(train_path, transform=cifar_transform_norm)\n",
    "dataloader_train_norm = DataLoader(dataset_train_norm, batch_size=128,\n",
    "                        shuffle=True, num_workers=4)\n",
    "\n",
    "dataset_test_norm = CifarDataset(test_path, is_train=False, transform=cifar_test_transform_norm)\n",
    "dataloader_test_norm = DataLoader(dataset_test_norm, batch_size=128,\n",
    "                        shuffle=False, num_workers=1)\n",
    "\n",
    "\n",
    "def train_network(a_net, \n",
    "                  a_device,\n",
    "                  dataloader_train_norm=dataloader_train_norm,\n",
    "                  a_epochs=164,\n",
    "                  a_batch_size=128,\n",
    "                  a_lr=0.1):\n",
    "    \n",
    "    train_acc = []\n",
    "    train_loss = []\n",
    "    net = a_net.to(a_device)\n",
    "\n",
    "    criterion = nn.CrossEntropyLoss()\n",
    "    optimizer = torch.optim.SGD(a_net.parameters(), lr=a_lr, weight_decay=0.0001, momentum=0.9, nesterov=True)\n",
    "\n",
    "    \n",
    "    for epoch in tqdm.tqdm_notebook(range(a_epochs)):  # loop over the dataset multiple times\n",
    "        if epoch == 60:\n",
    "            optimizer = torch.optim.SGD(a_net.parameters(), lr=a_lr/10, weight_decay=0.0001, momentum=0.9, nesterov=True) \n",
    "        elif epoch == 82:\n",
    "            optimizer = torch.optim.SGD(a_net.parameters(), lr=a_lr/100, weight_decay=0.0001, momentum=0.9, nesterov=True)\n",
    "        \n",
    "        net = net.train()        \n",
    "        epoch_accuracy = 0.0\n",
    "        epoch_iters = 0\n",
    "        trainloss=0\n",
    "        for item in dataloader_train_norm:\n",
    "            \n",
    "            epoch_iters += 1\n",
    "\n",
    "            inputs = item[0].to(a_device)\n",
    "            labels = item[1].long().to(a_device)\n",
    "            \n",
    "            \n",
    "            # zero the parameter gradients\n",
    "            optimizer.zero_grad()\n",
    "\n",
    "            # forward + backward + optimize\n",
    "            outputs = net(inputs)\n",
    "            loss = criterion(outputs, labels)\n",
    "            loss.backward()\n",
    "            optimizer.step()\n",
    "\n",
    "            trainloss += loss.item()\n",
    "\n",
    "            epoch_accuracy += accuracy_score(labels, prediction2classes(outputs))\n",
    "        trainloss /= epoch_iters\n",
    "        train_loss.append(trainloss)\n",
    "        epoch_accuracy /= epoch_iters\n",
    "        train_acc.append(epoch_accuracy)\n",
    "        \n",
    "        print(\"Epoch \", epoch,\"Acc\", round(train_acc[-1], 4),\"Loss\",round(train_loss[-1], 4))\n",
    "\n",
    "    print('Finished Training')\n",
    "    \n",
    "    plt.plot(train_acc, label='Train')\n",
    "    plt.legend()\n",
    "    plt.grid()"
   ]
  },
  {
   "cell_type": "code",
   "execution_count": 11,
   "metadata": {},
   "outputs": [],
   "source": [
    "class CifarResidualBlock(nn.Module):\n",
    "    def __init__(self, a_in_channels, make_downsample=False, use_skip_connection=True):\n",
    "        super(CifarResidualBlock, self).__init__()\n",
    "        self.use_skip_connection = use_skip_connection\n",
    "        \n",
    "        if make_downsample: coef = 2\n",
    "        else: coef = 1  \n",
    "            \n",
    "        self.conv1 =  nn.Conv2d(a_in_channels, a_in_channels*coef,  stride = coef,kernel_size=3, padding=1, bias=False)\n",
    "        self.bn1 = nn.BatchNorm2d(a_in_channels*coef)\n",
    "        \n",
    "        self.conv2 =  nn.Conv2d(a_in_channels*coef, a_in_channels*coef, stride = 1,kernel_size=3, padding=1, bias=False)\n",
    "        self.bn2 = nn.BatchNorm2d(a_in_channels*coef)\n",
    "        self.make_downsample = make_downsample\n",
    "        self.downsample = nn.Sequential(nn.Conv2d(a_in_channels, a_in_channels*coef, stride = 2,kernel_size=1, bias=False),\n",
    "                                        nn.BatchNorm2d(a_in_channels*coef))\n",
    " \n",
    "            \n",
    "    def forward(self, x):\n",
    "        residual = x\n",
    "\n",
    "        out = self.conv1(x)\n",
    "        out = self.bn1(out)\n",
    "        out = F.relu(out)\n",
    "\n",
    "        out = self.conv2(out)\n",
    "        out = self.bn2(out)\n",
    "\n",
    "        \n",
    "            \n",
    "        if self.use_skip_connection:\n",
    "            if self.make_downsample:\n",
    "                residual = self.downsample(x)\n",
    "            out += residual\n",
    "        out = F.relu(out)\n",
    "\n",
    "        return out"
   ]
  },
  {
   "cell_type": "code",
   "execution_count": 12,
   "metadata": {},
   "outputs": [],
   "source": [
    "class CifarResNet(nn.Module):\n",
    "    \n",
    "    def __init__(self):\n",
    "        super(CifarResNet, self).__init__()\n",
    "        self.conv = nn.Conv2d(3, 16, 1)\n",
    "        self.max = nn.MaxPool2d(3,1,1)\n",
    "        \n",
    "        self.features = nn.Sequential()\n",
    "    \n",
    "        \n",
    "        self.features.add_module('res_block1', CifarResidualBlock(16))\n",
    "        self.features.add_module('res_block2', CifarResidualBlock(16))\n",
    "        self.features.add_module('res_block3', CifarResidualBlock(16))\n",
    "        self.features.add_module('res_block4', CifarResidualBlock(16))\n",
    "\n",
    "        self.features.add_module('res_block5', CifarResidualBlock(16,make_downsample=True))\n",
    "        self.features.add_module('res_block6', CifarResidualBlock(32))\n",
    "        self.features.add_module('res_block7', CifarResidualBlock(32))\n",
    "        self.features.add_module('res_block8', CifarResidualBlock(32))\n",
    "        \n",
    "        self.features.add_module('res_block9', CifarResidualBlock(32,make_downsample=True))\n",
    "        self.features.add_module('res_block10', CifarResidualBlock(64))\n",
    "        self.features.add_module('res_block11', CifarResidualBlock(64))\n",
    "        self.features.add_module('res_block12', CifarResidualBlock(64))\n",
    "        \n",
    "        self.global_avg_pooling = nn.AvgPool2d(kernel_size = 8)\n",
    "        self.fc_classifier = nn.Linear(64, 100)\n",
    "        \n",
    "    def forward(self, x):\n",
    "        x = self.conv(x)\n",
    "        x = self.max(x)\n",
    "        x = self.features(x)\n",
    "        x = self.global_avg_pooling(x)        \n",
    "        x = x.view((x.size()[0], -1))        \n",
    "        x = self.fc_classifier(x)  \n",
    "        return x"
   ]
  },
  {
   "cell_type": "code",
   "execution_count": 15,
   "metadata": {
    "scrolled": true
   },
   "outputs": [
    {
     "data": {
      "application/vnd.jupyter.widget-view+json": {
       "model_id": "58b3f9c4170d4bc0b06fe758c16c90bf",
       "version_major": 2,
       "version_minor": 0
      },
      "text/plain": [
       "HBox(children=(IntProgress(value=0, max=90), HTML(value='')))"
      ]
     },
     "metadata": {},
     "output_type": "display_data"
    },
    {
     "name": "stdout",
     "output_type": "stream",
     "text": [
      "Epoch  0 Acc 0.0865 Loss 3.9257\n",
      "Epoch  1 Acc 0.1899 Loss 3.2908\n",
      "Epoch  2 Acc 0.263 Loss 2.9062\n",
      "Epoch  3 Acc 0.321 Loss 2.6209\n",
      "Epoch  4 Acc 0.3646 Loss 2.4145\n",
      "Epoch  5 Acc 0.3987 Loss 2.2439\n",
      "Epoch  6 Acc 0.428 Loss 2.1306\n",
      "Epoch  7 Acc 0.4482 Loss 2.0251\n",
      "Epoch  8 Acc 0.4696 Loss 1.9389\n",
      "Epoch  9 Acc 0.4886 Loss 1.8588\n",
      "Epoch  10 Acc 0.5032 Loss 1.8062\n",
      "Epoch  11 Acc 0.5166 Loss 1.7424\n",
      "Epoch  12 Acc 0.5298 Loss 1.6945\n",
      "Epoch  13 Acc 0.5371 Loss 1.655\n",
      "Epoch  14 Acc 0.5493 Loss 1.6117\n",
      "Epoch  15 Acc 0.5552 Loss 1.5775\n",
      "Epoch  16 Acc 0.5635 Loss 1.5521\n",
      "Epoch  17 Acc 0.5705 Loss 1.5267\n",
      "Epoch  18 Acc 0.576 Loss 1.4938\n",
      "Epoch  19 Acc 0.5842 Loss 1.4719\n",
      "Epoch  20 Acc 0.5904 Loss 1.451\n",
      "Epoch  21 Acc 0.5941 Loss 1.425\n",
      "Epoch  22 Acc 0.5994 Loss 1.4072\n",
      "Epoch  23 Acc 0.6034 Loss 1.3909\n",
      "Epoch  24 Acc 0.6046 Loss 1.372\n",
      "Epoch  25 Acc 0.6094 Loss 1.355\n",
      "Epoch  26 Acc 0.6143 Loss 1.3422\n",
      "Epoch  27 Acc 0.6181 Loss 1.3355\n",
      "Epoch  28 Acc 0.6205 Loss 1.3173\n",
      "Epoch  29 Acc 0.6231 Loss 1.3077\n",
      "Epoch  30 Acc 0.6265 Loss 1.2955\n",
      "Epoch  31 Acc 0.6281 Loss 1.2784\n",
      "Epoch  32 Acc 0.63 Loss 1.2725\n",
      "Epoch  33 Acc 0.6346 Loss 1.2567\n",
      "Epoch  34 Acc 0.6375 Loss 1.2503\n",
      "Epoch  35 Acc 0.6369 Loss 1.2435\n",
      "Epoch  36 Acc 0.6405 Loss 1.233\n",
      "Epoch  37 Acc 0.6431 Loss 1.2181\n",
      "Epoch  38 Acc 0.6436 Loss 1.2195\n",
      "Epoch  39 Acc 0.6481 Loss 1.2094\n",
      "Epoch  40 Acc 0.6501 Loss 1.1981\n",
      "Epoch  41 Acc 0.6481 Loss 1.2011\n",
      "Epoch  42 Acc 0.6513 Loss 1.191\n",
      "Epoch  43 Acc 0.6521 Loss 1.1892\n",
      "Epoch  44 Acc 0.6559 Loss 1.1811\n",
      "Epoch  45 Acc 0.6557 Loss 1.1699\n",
      "Epoch  46 Acc 0.659 Loss 1.1641\n",
      "Epoch  47 Acc 0.6569 Loss 1.1702\n",
      "Epoch  48 Acc 0.6605 Loss 1.1532\n",
      "Epoch  49 Acc 0.6612 Loss 1.1509\n",
      "Epoch  50 Acc 0.6629 Loss 1.1447\n",
      "Epoch  51 Acc 0.6639 Loss 1.1447\n",
      "Epoch  52 Acc 0.6663 Loss 1.1356\n",
      "Epoch  53 Acc 0.666 Loss 1.131\n",
      "Epoch  54 Acc 0.6686 Loss 1.1281\n",
      "Epoch  55 Acc 0.6734 Loss 1.1122\n",
      "Epoch  56 Acc 0.6711 Loss 1.1217\n",
      "Epoch  57 Acc 0.6721 Loss 1.1132\n",
      "Epoch  58 Acc 0.6734 Loss 1.1172\n",
      "Epoch  59 Acc 0.6741 Loss 1.1072\n",
      "Epoch  60 Acc 0.7597 Loss 0.8138\n",
      "Epoch  61 Acc 0.7812 Loss 0.7381\n",
      "Epoch  62 Acc 0.7898 Loss 0.7054\n",
      "Epoch  63 Acc 0.7963 Loss 0.6838\n",
      "Epoch  64 Acc 0.7995 Loss 0.6661\n",
      "Epoch  65 Acc 0.8039 Loss 0.6515\n",
      "Epoch  66 Acc 0.8053 Loss 0.6413\n",
      "Epoch  67 Acc 0.8102 Loss 0.6264\n",
      "Epoch  68 Acc 0.8118 Loss 0.6186\n",
      "Epoch  69 Acc 0.814 Loss 0.6118\n",
      "Epoch  70 Acc 0.8163 Loss 0.6011\n",
      "Epoch  71 Acc 0.8165 Loss 0.597\n",
      "Epoch  72 Acc 0.822 Loss 0.5881\n",
      "Epoch  73 Acc 0.8224 Loss 0.5777\n",
      "Epoch  74 Acc 0.8261 Loss 0.5708\n",
      "Epoch  75 Acc 0.8234 Loss 0.571\n",
      "Epoch  76 Acc 0.8269 Loss 0.5633\n",
      "Epoch  77 Acc 0.8271 Loss 0.5592\n",
      "Epoch  78 Acc 0.829 Loss 0.5548\n",
      "Epoch  79 Acc 0.8307 Loss 0.5467\n",
      "Epoch  80 Acc 0.8301 Loss 0.5451\n",
      "Epoch  81 Acc 0.8343 Loss 0.5353\n",
      "Epoch  82 Acc 0.8496 Loss 0.4912\n",
      "Epoch  83 Acc 0.8511 Loss 0.4863\n",
      "Epoch  84 Acc 0.8531 Loss 0.4805\n",
      "Epoch  85 Acc 0.854 Loss 0.4785\n",
      "Epoch  86 Acc 0.8519 Loss 0.4786\n",
      "Epoch  87 Acc 0.8535 Loss 0.4739\n",
      "Epoch  88 Acc 0.8555 Loss 0.4715\n",
      "Epoch  89 Acc 0.8561 Loss 0.4683\n",
      "\n",
      "Finished Training\n",
      "CPU times: user 28min 33s, sys: 7min 5s, total: 35min 39s\n",
      "Wall time: 37min 25s\n"
     ]
    },
    {
     "data": {
      "image/png": "[encoded data removed]",
      "text/plain": [
       "<Figure size 432x288 with 1 Axes>"
      ]
     },
     "metadata": {
      "needs_background": "light"
     },
     "output_type": "display_data"
    }
   ],
   "source": [
    "resnet = CifarResNet()\n",
    "%time train_network(resnet, torch.device(DEVICE), a_epochs = 90)"
   ]
  },
  {
   "cell_type": "markdown",
   "metadata": {},
   "source": [
    "# Важно переключить сеть в режим eval - иначе dropout будет работать некорректно"
   ]
  },
  {
   "cell_type": "code",
   "execution_count": 16,
   "metadata": {},
   "outputs": [],
   "source": [
    "def make_solution(a_net, a_device):\n",
    "    res = []\n",
    "    net = a_net.eval()\n",
    "    for item in dataloader_test_norm:\n",
    "        inputs = item.to(a_device)\n",
    "        outputs = net(inputs) \n",
    "\n",
    "        res += prediction2classes(outputs)\n",
    "    return res"
   ]
  },
  {
   "cell_type": "code",
   "execution_count": 17,
   "metadata": {},
   "outputs": [],
   "source": [
    "my_solution = make_solution(resnet, DEVICE)"
   ]
  },
  {
   "cell_type": "code",
   "execution_count": 18,
   "metadata": {},
   "outputs": [],
   "source": [
    "with open('my_solution.csv', 'w') as fout:\n",
    "    print('Id', 'Prediction', sep=',', file=fout)\n",
    "    for i, prediction in enumerate(my_solution):\n",
    "        print(i, prediction, sep=',', file=fout)"
   ]
  },
  {
   "cell_type": "code",
   "execution_count": null,
   "metadata": {},
   "outputs": [],
   "source": []
  }
 ],
 "metadata": {
  "kernelspec": {
   "display_name": "Python 3",
   "language": "python",
   "name": "python3"
  },
  "language_info": {
   "codemirror_mode": {
    "name": "ipython",
    "version": 3
   },
   "file_extension": ".py",
   "mimetype": "text/x-python",
   "name": "python",
   "nbconvert_exporter": "python",
   "pygments_lexer": "ipython3",
   "version": "3.7.0"
  }
 },
 "nbformat": 4,
 "nbformat_minor": 1
}
